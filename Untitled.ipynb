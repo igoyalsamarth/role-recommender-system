{
 "cells": [
  {
   "cell_type": "code",
   "execution_count": 2,
   "id": "6ad3c35d",
   "metadata": {},
   "outputs": [
    {
     "name": "stdout",
     "output_type": "stream",
     "text": [
      "CPU times: total: 0 ns\n",
      "Wall time: 0 ns\n"
     ]
    }
   ],
   "source": [
    "%%time\n",
    "import numpy as np\n",
    "import pandas as pd\n",
    "import seaborn as sns\n",
    "import matplotlib.pyplot as plt\n",
    "from sklearn.preprocessing import PowerTransformer, StandardScaler, RobustScaler\n",
    "from sklearn.decomposition import PCA\n",
    "from sklearn.mixture import BayesianGaussianMixture, GaussianMixture\n",
    "from sklearn.cluster import KMeans\n",
    "import umap\n",
    "import umap.plot\n",
    "from sklearn.metrics import accuracy_score\n",
    "from sklego.mixture import BayesianGMMClassifier"
   ]
  },
  {
   "cell_type": "code",
   "execution_count": 3,
   "id": "0aaac430",
   "metadata": {},
   "outputs": [],
   "source": [
    "df = pd.read_csv('Valorant_Champoins_edited.csv')\n",
    "df = df.drop(['Rnd','R','KAST','K','D','A','FK','FD','CLSuc','CLSit','CL%','KMax','ACS','HS%'], axis = 1)\n",
    "df\n",
    "player = df['Player']"
   ]
  },
  {
   "cell_type": "code",
   "execution_count": 4,
   "id": "ee4b121f",
   "metadata": {},
   "outputs": [
    {
     "name": "stdout",
     "output_type": "stream",
     "text": [
      "    K:D    ADR   KPR   APR  FKPR  FDPR\n",
      "0  1.50  159.8  0.93  0.09  0.20  0.08\n",
      "1  1.36  160.9  0.89  0.30  0.23  0.12\n",
      "2  1.31  156.1  0.86  0.21  0.15  0.09\n",
      "3  1.25  137.5  0.76  0.39  0.08  0.04\n",
      "4  1.39  166.2  0.92  0.13  0.17  0.15\n",
      "5  1.12  133.7  0.68  0.43  0.04  0.04\n",
      "6  1.27  143.4  0.85  0.13  0.18  0.13\n",
      "7  1.14  127.5  0.68  0.41  0.07  0.05\n",
      "8  1.14  135.9  0.72  0.43  0.07  0.07\n",
      "9  1.31  142.6  0.81  0.17  0.10  0.10\n"
     ]
    }
   ],
   "source": [
    "X_train = df.drop(['Player'], axis = 1)\n",
    "print(X_train[:10])"
   ]
  },
  {
   "cell_type": "code",
   "execution_count": 5,
   "id": "d1abdf23",
   "metadata": {
    "scrolled": true
   },
   "outputs": [
    {
     "name": "stdout",
     "output_type": "stream",
     "text": [
      "[[ 1.72393212  1.16137509  1.39160656 -1.65951137  1.00876667 -0.18899545]\n",
      " [ 1.34246681  1.19518099  1.20184296  0.16487205  1.16423255  0.47250495]\n",
      " [ 1.19523867  1.04529028  1.05227266 -0.59096306  0.67817731  0.        ]\n",
      " [ 1.01009199  0.39904051  0.50343986  0.88655952  0.         -1.15280266]\n",
      " [ 1.42790093  1.35374804  1.34516134 -1.29497925  0.82267257  0.83247624]\n",
      " [ 0.57368913  0.25221087  0.          1.19731578 -0.55407979 -1.15280266]\n",
      " [ 1.07287478  0.61636836  1.00096168 -1.29497925  0.88850909  0.60338739]\n",
      " [ 0.64421411  0.          0.          1.04267277 -0.12479929 -0.87609774]\n",
      " [ 0.64421411  0.33790052  0.25959173  1.19731578 -0.12479929 -0.39661261]\n",
      " [ 1.19523867  0.58762163  0.78804935 -0.93895637  0.22606917  0.17219238]\n",
      " [ 0.16119874  0.8856414   0.61986561  0.56977916  0.95045382  1.18591478]\n",
      " [ 0.67899365  0.47039552  0.38340046  0.08264917 -0.40111433 -1.15280266]\n",
      " [ 0.74760882  1.1521001   0.78804935 -0.5051672   0.59888567  0.83247624]\n",
      " [ 0.35405379  0.94182039  0.67676978  0.          0.82267257  0.47250495]\n",
      " [ 0.42864724 -0.1368153   0.13184941  0.88655952  0.11676134 -0.62488671]\n",
      " [ 0.53793466  0.88896988  0.32197732 -0.59096306  0.75266328  0.72302718]\n",
      " [ 0.42864724  0.64489704  0.4438814   0.96480211 -0.12479929  0.        ]\n",
      " [ 0.53793466  0.41794801  0.50343986 -1.11593518  0.82267257  0.17219238]\n",
      " [ 0.71345712  1.01005173  1.05227266 -0.7639843   1.00876667  0.60338739]\n",
      " [ 0.6091141   0.62709201  0.56209503 -1.02719134  0.82267257  0.47250495]\n",
      " [ 0.27802516  0.03763811  0.          0.72894059 -0.12479929 -0.18899545]\n",
      " [ 0.4654185   0.80143987  0.84245885 -0.67723323  0.95045382  0.47250495]\n",
      " [ 0.27802516  0.92209031  0.61986561 -0.85122305  1.11544134  1.02448973]\n",
      " [ 0.         -0.2292381  -0.57229761  0.56977916 -0.55407979 -0.39661261]\n",
      " [ 0.16119874  0.04179791 -0.13613983  1.04267277  0.          1.02448973]\n",
      " [ 0.50184603 -0.08066117  0.          0.40903694 -0.55407979 -0.39661261]\n",
      " [ 0.42864724  0.06666434  0.19622289  0.64955505 -0.12479929  0.        ]\n",
      " [ 0.16119874  0.02095462  0.          0.72894059  0.22606917  0.        ]\n",
      " [ 0.39152734  0.8622576   0.84245885 -1.11593518  1.16423255  0.        ]\n",
      " [ 0.23945957  0.25221087 -0.13613983  0.32806065 -1.2848839  -0.87609774]\n",
      " [ 0.31622146  0.42924771  0.4438814  -0.67723323  0.67817731  0.83247624]\n",
      " [-0.04130844 -0.16300338  0.          0.32806065 -0.40111433 -0.39661261]\n",
      " [-0.12517896 -0.57785769 -0.34882124  1.65275841 -0.40111433  0.        ]\n",
      " [-0.3872936  -0.31019794 -0.72765454  1.04267277 -0.12479929  0.        ]\n",
      " [ 0.50184603  0.46294712  0.78804935 -1.29497925  1.06368823  0.17219238]\n",
      " [ 0.35405379  0.65199548  0.67676978  0.80794053  0.22606917 -0.18899545]\n",
      " [-0.12517896 -0.18495942 -0.2058788   0.56977916  0.11676134 -0.18899545]\n",
      " [ 0.08139436 -0.477178   -0.27676394 -0.25056149 -0.40111433 -0.62488671]\n",
      " [ 0.12149236  0.82859337  0.56209503 -0.59096306  0.67817731  0.72302718]\n",
      " [ 0.08139436  0.15651002  0.06644931 -0.25056149  0.67817731  0.83247624]\n",
      " [-0.29811695 -1.01256322 -0.97085933  0.88655952 -0.71799477 -0.87609774]\n",
      " [-0.21076398 -0.4207474  -0.34882124 -0.16659959 -0.12479929 -0.39661261]\n",
      " [ 0.0408989   0.29529417  0.50343986 -1.11593518  0.67817731 -0.39661261]\n",
      " [-0.08303265  0.26008009  0.25959173 -0.16659959 -0.12479929  0.17219238]\n",
      " [ 0.27802516 -0.05501044  0.13184941 -1.02719134 -0.40111433 -0.87609774]\n",
      " [ 0.0408989  -0.02952545  0.06644931 -0.5051672   0.514432    0.72302718]\n",
      " [-0.34247374 -0.5681613  -0.57229761  0.         -0.89376102 -0.87609774]\n",
      " [-0.3872936  -0.46771817 -0.42207746  0.16487205 -0.25827292  0.        ]\n",
      " [-0.04130844  0.1403278   0.         -0.33497267  0.22606917  0.47250495]\n",
      " [-0.21076398 -0.50569044 -0.42207746 -0.25056149 -0.89376102 -0.39661261]\n",
      " [ 0.          0.40661475  0.38340046 -1.29497925  0.59888567  1.25684386]\n",
      " [-0.21076398  0.03347388 -0.06752175 -0.5051672   0.22606917  0.60338739]\n",
      " [ 0.35405379  0.67321053  0.67676978 -0.33497267  0.         -0.62488671]\n",
      " [-0.12517896 -0.059274   -0.13613983 -0.5051672   0.32846069  0.32920848]\n",
      " [-0.29811695 -0.30112117 -0.13613983  0.32806065 -0.12479929 -0.39661261]\n",
      " [-0.34247374 -0.02952545 -0.34882124  0.         -0.25827292 -0.62488671]\n",
      " [-0.61860117 -0.76658198 -0.88839231  0.         -0.40111433  0.        ]\n",
      " [-0.478352   -0.83834658 -0.64931906  0.08264917 -0.25827292 -0.39661261]\n",
      " [-0.57135276 -0.69604081 -0.64931906  0.64955505 -0.25827292 -0.18899545]\n",
      " [-0.08303265  0.9842085   0.67676978 -0.59096306  0.67817731  0.72302718]\n",
      " [-0.81277423 -0.77166702 -1.14015894  0.40903694 -0.71799477 -0.39661261]\n",
      " [-0.57135276 -0.70103966 -0.64931906 -0.08308102 -0.40111433 -0.39661261]\n",
      " [-0.86265545 -0.58271453 -0.97085933  0.40903694 -0.55407979  0.17219238]\n",
      " [-0.61860117  0.00419988 -0.42207746 -0.5051672   0.59888567  0.93268017]\n",
      " [-0.34247374 -0.52960448 -0.49656014  0.08264917 -0.40111433  0.        ]\n",
      " [-0.57135276 -0.49616405 -0.49656014 -0.59096306  0.11676134  0.        ]\n",
      " [-0.61860117 -0.59244555 -0.49656014  0.08264917 -0.12479929 -0.62488671]\n",
      " [-0.81277423 -0.82286362 -0.807335    0.16487205 -0.40111433 -0.39661261]\n",
      " [-0.96408649 -0.83834658 -0.88839231  0.40903694 -0.55407979 -0.39661261]\n",
      " [-0.96408649 -0.83834658 -0.72765454 -0.7639843  -0.25827292 -0.18899545]\n",
      " [-0.81277423 -0.70103966 -0.42207746  0.32806065  0.32846069  0.72302718]\n",
      " [-1.22784714 -0.48665993 -0.97085933 -0.41983918  0.          0.47250495]\n",
      " [-0.3872936   0.07491816  0.06644931 -1.20519529  0.32846069  0.47250495]\n",
      " [-0.91308977 -1.14396416 -0.807335   -0.08308102 -0.25827292  0.        ]\n",
      " [-0.81277423 -0.14988775 -0.49656014 -1.20519529  0.11676134  1.43710334]\n",
      " [-1.50719307 -0.62177823 -1.22706238  0.          0.11676134  0.60338739]\n",
      " [-1.39349653 -0.99642242 -1.14015894  0.          0.          0.83247624]\n",
      " [-1.28242605 -0.90086095 -1.05476991  0.56977916 -0.55407979  1.18591478]\n",
      " [-1.50719307 -1.6261086  -1.68563562  0.32806065 -0.71799477 -0.87609774]\n",
      " [-0.91308977 -0.44886445 -0.49656014 -1.3852948   0.42443001  1.43710334]\n",
      " [-1.33763878 -1.31994308 -0.97085933 -1.3852948   0.42443001  1.18591478]]\n",
      "CPU times: total: 15.6 ms\n",
      "Wall time: 22.1 ms\n"
     ]
    }
   ],
   "source": [
    "%%time\n",
    "power_transformer = PowerTransformer().fit(X_train)\n",
    "X_train_transformed = power_transformer.transform(X_train)\n",
    "robust_scaler = RobustScaler().fit(X_train_transformed)\n",
    "df_scaled = robust_scaler.transform(X_train_transformed)\n",
    "#1.723932  1.161375  1.391607 -1.659511  1.008767 -0.188995\n",
    "print(df_scaled)"
   ]
  },
  {
   "cell_type": "code",
   "execution_count": 6,
   "id": "4f82deca",
   "metadata": {},
   "outputs": [
    {
     "data": {
      "text/plain": [
       "\"\\npca = PCA(n_components=6)\\npca.fit(df_scaled)\\nvariance = pca.explained_variance_ratio_\\nvar = np.cumsum(np.round(variance, 3)*100)\\nfeatures = np.arange(1,7,1)\\n\\npca_variance = pd.DataFrame({'features': features, 'variance': var})\\n\\ncust_color_pca = ['#cc9900', '#e6ac00', '#ffbf00', '#fdc029', '#f7c14c', '#f0c268', '#e8c381','#dfc498','#d4c5af',\\n'#B8B8B8', '#A9A9A9', '#A0A0A0', '#909090', '#808080', '#707070', '#696969', '#606060', '#585858', '#484848', '#404040',\\n'#383838', '#303030', '#282828', '#202020', '#101010', '#000000']\\n\\nplt.figure(figsize=(8,4))\\nsns.barplot(x=pca_variance.features, y=pca_variance.variance, data=pca_variance, edgecolor='black', linewidth=1.5, saturation=1.5, palette=cust_color_pca);\\nplt.ylabel('% Variance Explained')\\nplt.xlabel('# of Features')\\nplt.title('PCA Analysis')\\nplt.ylim(0,100.5)\\n\""
      ]
     },
     "execution_count": 6,
     "metadata": {},
     "output_type": "execute_result"
    }
   ],
   "source": [
    "\"\"\"\n",
    "pca = PCA(n_components=6)\n",
    "pca.fit(df_scaled)\n",
    "variance = pca.explained_variance_ratio_\n",
    "var = np.cumsum(np.round(variance, 3)*100)\n",
    "features = np.arange(1,7,1)\n",
    "\n",
    "pca_variance = pd.DataFrame({'features': features, 'variance': var})\n",
    "\n",
    "cust_color_pca = ['#cc9900', '#e6ac00', '#ffbf00', '#fdc029', '#f7c14c', '#f0c268', '#e8c381','#dfc498','#d4c5af',\n",
    "'#B8B8B8', '#A9A9A9', '#A0A0A0', '#909090', '#808080', '#707070', '#696969', '#606060', '#585858', '#484848', '#404040',\n",
    "'#383838', '#303030', '#282828', '#202020', '#101010', '#000000']\n",
    "\n",
    "plt.figure(figsize=(8,4))\n",
    "sns.barplot(x=pca_variance.features, y=pca_variance.variance, data=pca_variance, edgecolor='black', linewidth=1.5, saturation=1.5, palette=cust_color_pca);\n",
    "plt.ylabel('% Variance Explained')\n",
    "plt.xlabel('# of Features')\n",
    "plt.title('PCA Analysis')\n",
    "plt.ylim(0,100.5)\n",
    "\"\"\""
   ]
  },
  {
   "cell_type": "code",
   "execution_count": 7,
   "id": "61520e7b",
   "metadata": {},
   "outputs": [
    {
     "data": {
      "text/plain": [
       "\"\\nclusters = np.arange(2, 20)\\n\\ninertias = []\\n\\nfor k in clusters:\\n    km = KMeans(n_clusters=k)\\n    km.fit(df_scaled.iloc[:10000,:])\\n    inertias.append(km.inertia_)\\n    \\nkmeans = list(zip(clusters, inertias))\\nkmeans_df = pd.DataFrame(kmeans, columns=['clusters',  'interias'])  \\n\""
      ]
     },
     "execution_count": 7,
     "metadata": {},
     "output_type": "execute_result"
    }
   ],
   "source": [
    "\"\"\"\n",
    "clusters = np.arange(2, 20)\n",
    "\n",
    "inertias = []\n",
    "\n",
    "for k in clusters:\n",
    "    km = KMeans(n_clusters=k)\n",
    "    km.fit(df_scaled.iloc[:10000,:])\n",
    "    inertias.append(km.inertia_)\n",
    "    \n",
    "kmeans = list(zip(clusters, inertias))\n",
    "kmeans_df = pd.DataFrame(kmeans, columns=['clusters',  'interias'])  \n",
    "\"\"\""
   ]
  },
  {
   "cell_type": "code",
   "execution_count": 8,
   "id": "45252bf5",
   "metadata": {},
   "outputs": [
    {
     "data": {
      "text/plain": [
       "\"\\nplt.figure(figsize=(8,4))\\nsns.lineplot(x='clusters', y='interias', data=kmeans_df, color='black', marker='o', markerfacecolor=cust_color_pca[0], markersize=12);\\nplt.ylabel('Interias')\\nplt.xlabel('No. of Clusters')\\nplt.xticks(np.arange(2, 20, step=1));\\n\""
      ]
     },
     "execution_count": 8,
     "metadata": {},
     "output_type": "execute_result"
    }
   ],
   "source": [
    "\"\"\"\n",
    "plt.figure(figsize=(8,4))\n",
    "sns.lineplot(x='clusters', y='interias', data=kmeans_df, color='black', marker='o', markerfacecolor=cust_color_pca[0], markersize=12);\n",
    "plt.ylabel('Interias')\n",
    "plt.xlabel('No. of Clusters')\n",
    "plt.xticks(np.arange(2, 20, step=1));\n",
    "\"\"\""
   ]
  },
  {
   "cell_type": "code",
   "execution_count": 9,
   "id": "3ba8e22f",
   "metadata": {},
   "outputs": [
    {
     "name": "stdout",
     "output_type": "stream",
     "text": [
      "Initialization 0\n",
      "  Iteration 10\t time lapse 0.12186s\t ll change 0.01960\n",
      "Initialization converged: True\t time lapse 0.12186s\t ll -1.79248\n",
      "Initialization 1\n",
      "Initialization converged: True\t time lapse 0.01535s\t ll -1.56260\n",
      "Initialization 2\n",
      "  Iteration 10\t time lapse 0.01627s\t ll change 0.02336\n",
      "Initialization converged: True\t time lapse 0.01627s\t ll -1.76952\n",
      "Initialization 3\n",
      "  Iteration 10\t time lapse 0.01600s\t ll change 0.00312\n",
      "  Iteration 20\t time lapse 0.01003s\t ll change 0.02603\n",
      "Initialization converged: True\t time lapse 0.03004s\t ll -1.72466\n",
      "Initialization 4\n",
      "  Iteration 10\t time lapse 0.02000s\t ll change 0.00312\n",
      "  Iteration 20\t time lapse 0.00953s\t ll change 0.02603\n",
      "Initialization converged: True\t time lapse 0.03354s\t ll -1.72466\n",
      "Initialization 5\n",
      "Initialization converged: True\t time lapse 0.01386s\t ll -1.74271\n",
      "Initialization 6\n",
      "Initialization converged: True\t time lapse 0.01557s\t ll -1.76563\n",
      "Initialization 7\n",
      "Initialization converged: True\t time lapse 0.01787s\t ll -1.76563\n",
      "Initialization 8\n",
      "  Iteration 10\t time lapse 0.01227s\t ll change 0.00312\n",
      "  Iteration 20\t time lapse 0.01200s\t ll change 0.02603\n",
      "Initialization converged: True\t time lapse 0.02827s\t ll -1.72466\n",
      "Initialization 9\n",
      "Initialization converged: True\t time lapse 0.01452s\t ll -1.76563\n"
     ]
    }
   ],
   "source": [
    "gmm = GaussianMixture(n_components=4, random_state=3, verbose=3, n_init=10)\n",
    "gmm_preds = gmm.fit_predict(df_scaled)"
   ]
  },
  {
   "cell_type": "code",
   "execution_count": 10,
   "id": "5f583ca6",
   "metadata": {},
   "outputs": [
    {
     "data": {
      "text/plain": [
       "\"plt.figure(figsize=(8, 4))\\nfor i in range(gmm.means_.shape[0]):\\n    plt.scatter(np.arange(df_scaled.shape[1]), gmm.means_[i])\\nplt.xticks(ticks=np.arange(df_scaled.shape[1]), labels=df_scaled.columns, rotation=90)\\nplt.title('Cluster Means')\\nplt.ylabel('Cluster Centres')\\nplt.xlabel('Features');\\nplt.show()\\n\""
      ]
     },
     "execution_count": 10,
     "metadata": {},
     "output_type": "execute_result"
    }
   ],
   "source": [
    "\"\"\"plt.figure(figsize=(8, 4))\n",
    "for i in range(gmm.means_.shape[0]):\n",
    "    plt.scatter(np.arange(df_scaled.shape[1]), gmm.means_[i])\n",
    "plt.xticks(ticks=np.arange(df_scaled.shape[1]), labels=df_scaled.columns, rotation=90)\n",
    "plt.title('Cluster Means')\n",
    "plt.ylabel('Cluster Centres')\n",
    "plt.xlabel('Features');\n",
    "plt.show()\n",
    "\"\"\""
   ]
  },
  {
   "cell_type": "code",
   "execution_count": 11,
   "id": "acd244a6",
   "metadata": {},
   "outputs": [],
   "source": [
    "bgmm = BayesianGaussianMixture(n_components=4, random_state=1, verbose=0, covariance_type='full', max_iter=500, n_init=10, init_params='kmeans')\n",
    "bgmm_preds = bgmm.fit_predict(df_scaled)"
   ]
  },
  {
   "cell_type": "code",
   "execution_count": 12,
   "id": "008394ae",
   "metadata": {},
   "outputs": [],
   "source": [
    "player_dict = dict(zip(player,bgmm_preds))"
   ]
  },
  {
   "cell_type": "code",
   "execution_count": 13,
   "id": "430d98f0",
   "metadata": {},
   "outputs": [
    {
     "data": {
      "text/plain": [
       "{'yay': 0,\n",
       " 'kiNgg': 0,\n",
       " 'Laz': 0,\n",
       " 'pancada': 2,\n",
       " 'Derke': 0,\n",
       " 'Shao': 2,\n",
       " 'Cryocells': 0,\n",
       " 'Sacy': 2,\n",
       " 'MaKo': 2,\n",
       " 'Less': 0,\n",
       " 'keznit': 0,\n",
       " 'SUYGETSU': 2,\n",
       " 'Alfajer': 0,\n",
       " 'Zyppan': 0,\n",
       " 'Mistic': 1,\n",
       " 'ScreaM': 0,\n",
       " 'Mazino': 2,\n",
       " 'NagZ': 0,\n",
       " 'Will': 0,\n",
       " 'Jamppi': 0,\n",
       " 'crashies': 1,\n",
       " 'ardiis': 0,\n",
       " 'BuZz': 0,\n",
       " 'CHICHOO': 1,\n",
       " 'saadhak': 1,\n",
       " 'Melser': 1,\n",
       " 'bang': 1,\n",
       " 'BcJ': 1,\n",
       " 'ZmjjKK': 0,\n",
       " 'sScary': 2,\n",
       " 'aspas': 3,\n",
       " 'd4v41': 1,\n",
       " 'Shyy': 1,\n",
       " 'Boaster': 1,\n",
       " 'dgzin': 0,\n",
       " 'Smoggy': 2,\n",
       " 'Marved': 1,\n",
       " 'stax': 1,\n",
       " 'zekken': 0,\n",
       " 'Victor': 3,\n",
       " 'Enzo': 1,\n",
       " 'Zest': 1,\n",
       " 'Dep': 0,\n",
       " 'Crws': 2,\n",
       " 'nzr': 1,\n",
       " 'Tacolilla': 3,\n",
       " 'AYRIN': 1,\n",
       " 'Nivera': 1,\n",
       " 'Quick': 3,\n",
       " 'delz1k': 1,\n",
       " 'f0rsakeN': 3,\n",
       " 'fl1pzjder': 3,\n",
       " 'tehbotoL': 2,\n",
       " 'Rb': 3,\n",
       " 'SugarZ3ro': 1,\n",
       " 'adverso': 1,\n",
       " 'mindfreak': 1,\n",
       " 'dimasick': 1,\n",
       " 'dephh': 1,\n",
       " 'Jinggg': 0,\n",
       " 'FNS': 1,\n",
       " 'blaZek1ng': 1,\n",
       " 'stellar': 1,\n",
       " 'TENNN': 3,\n",
       " 'soulcas': 1,\n",
       " 'Haodong': 1,\n",
       " 'Derrek': 1,\n",
       " 'Benkai': 1,\n",
       " 'Klaus': 1,\n",
       " 'nobody': 1,\n",
       " 'Asuna': 1,\n",
       " 'Famouz': 3,\n",
       " 'foxz': 0,\n",
       " 'Khalil': 1,\n",
       " 'Life': 3,\n",
       " 'Sushiboys': 3,\n",
       " 'ANGE1': 1,\n",
       " 'Mazin': 1,\n",
       " 'crow': 1,\n",
       " 'Surf': 3,\n",
       " 'BerserX': 3}"
      ]
     },
     "execution_count": 13,
     "metadata": {},
     "output_type": "execute_result"
    }
   ],
   "source": [
    "player_dict"
   ]
  },
  {
   "cell_type": "code",
   "execution_count": 14,
   "id": "7e3549d6",
   "metadata": {},
   "outputs": [
    {
     "name": "stdout",
     "output_type": "stream",
     "text": [
      "aspas\n",
      "Victor\n",
      "Tacolilla\n",
      "Quick\n",
      "f0rsakeN\n",
      "fl1pzjder\n",
      "Rb\n",
      "TENNN\n",
      "Famouz\n",
      "Life\n",
      "Sushiboys\n",
      "Surf\n",
      "BerserX\n"
     ]
    }
   ],
   "source": [
    "for i in player_dict:\n",
    "    if player_dict.get(i) ==3:\n",
    "        print(i)\n"
   ]
  },
  {
   "cell_type": "code",
   "execution_count": 15,
   "id": "76d6fe51",
   "metadata": {
    "scrolled": false
   },
   "outputs": [
    {
     "data": {
      "text/plain": [
       "\"\\npca = PCA(n_components = 2)\\nX_train_pca = pca.fit_transform(X_train)\\n#print(X_train_pca)\\nfor i in range(len(player)):\\n    if bgmm_preds[i] == 1:\\n        plt.scatter(X_train_pca[i,0],X_train_pca[i,1],c = 'r')\\n    elif bgmm_preds[i] == 2:\\n        plt.scatter(X_train_pca[i,0],X_train_pca[i,1],c = 'b')\\n    elif bgmm_preds[i] == 0:\\n        plt.scatter(X_train_pca[i,0],X_train_pca[i,1],c = 'g')\\n    elif bgmm_preds[i] == 3:\\n        plt.scatter(X_train_pca[i,0],X_train_pca[i,1],c = 'orange')\\n\""
      ]
     },
     "execution_count": 15,
     "metadata": {},
     "output_type": "execute_result"
    }
   ],
   "source": [
    "\"\"\"\n",
    "pca = PCA(n_components = 2)\n",
    "X_train_pca = pca.fit_transform(X_train)\n",
    "#print(X_train_pca)\n",
    "for i in range(len(player)):\n",
    "    if bgmm_preds[i] == 1:\n",
    "        plt.scatter(X_train_pca[i,0],X_train_pca[i,1],c = 'r')\n",
    "    elif bgmm_preds[i] == 2:\n",
    "        plt.scatter(X_train_pca[i,0],X_train_pca[i,1],c = 'b')\n",
    "    elif bgmm_preds[i] == 0:\n",
    "        plt.scatter(X_train_pca[i,0],X_train_pca[i,1],c = 'g')\n",
    "    elif bgmm_preds[i] == 3:\n",
    "        plt.scatter(X_train_pca[i,0],X_train_pca[i,1],c = 'orange')\n",
    "\"\"\""
   ]
  },
  {
   "cell_type": "code",
   "execution_count": 16,
   "id": "ae4c54b3",
   "metadata": {},
   "outputs": [
    {
     "data": {
      "text/plain": [
       "\"\\npca = PCA(n_components = 2)\\nX_train_pca = pca.fit_transform(df_scaled)\\n#print(X_train_pca)\\nfor i in range(len(player)):\\n    if bgmm_preds[i] == 1:\\n        plt.scatter(X_train_pca[i,0],X_train_pca[i,1],c = 'r')\\n    elif bgmm_preds[i] == 2:\\n        plt.scatter(X_train_pca[i,0],X_train_pca[i,1],c = 'b')\\n    elif bgmm_preds[i] == 0:\\n        plt.scatter(X_train_pca[i,0],X_train_pca[i,1],c = 'g')\\n    elif bgmm_preds[i] == 3:\\n        plt.scatter(X_train_pca[i,0],X_train_pca[i,1],c = 'orange')\\n\""
      ]
     },
     "execution_count": 16,
     "metadata": {},
     "output_type": "execute_result"
    }
   ],
   "source": [
    "\"\"\"\n",
    "pca = PCA(n_components = 2)\n",
    "X_train_pca = pca.fit_transform(df_scaled)\n",
    "#print(X_train_pca)\n",
    "for i in range(len(player)):\n",
    "    if bgmm_preds[i] == 1:\n",
    "        plt.scatter(X_train_pca[i,0],X_train_pca[i,1],c = 'r')\n",
    "    elif bgmm_preds[i] == 2:\n",
    "        plt.scatter(X_train_pca[i,0],X_train_pca[i,1],c = 'b')\n",
    "    elif bgmm_preds[i] == 0:\n",
    "        plt.scatter(X_train_pca[i,0],X_train_pca[i,1],c = 'g')\n",
    "    elif bgmm_preds[i] == 3:\n",
    "        plt.scatter(X_train_pca[i,0],X_train_pca[i,1],c = 'orange')\n",
    "\"\"\""
   ]
  },
  {
   "cell_type": "code",
   "execution_count": 17,
   "id": "a5c5d20d",
   "metadata": {},
   "outputs": [
    {
     "data": {
      "text/plain": [
       "\"\\nfor i in range(len(player)):\\n    if bgmm_preds[i] == 1:\\n        plt.scatter(df.ACS[i],df.ADR[i],c = 'r')\\n    elif bgmm_preds[i] == 2:\\n        plt.scatter(df.ACS[i],df.ADR[i],c = 'g')\\n    elif bgmm_preds[i] == 0:\\n        plt.scatter(df.ACS[i],df.ADR[i],c = 'b')\\n    elif bgmm_preds[i] == 3:\\n        plt.scatter(df.ACS[i],df.ADR[i],c = 'orange')\\n\""
      ]
     },
     "execution_count": 17,
     "metadata": {},
     "output_type": "execute_result"
    }
   ],
   "source": [
    "\"\"\"\n",
    "for i in range(len(player)):\n",
    "    if bgmm_preds[i] == 1:\n",
    "        plt.scatter(df.ACS[i],df.ADR[i],c = 'r')\n",
    "    elif bgmm_preds[i] == 2:\n",
    "        plt.scatter(df.ACS[i],df.ADR[i],c = 'g')\n",
    "    elif bgmm_preds[i] == 0:\n",
    "        plt.scatter(df.ACS[i],df.ADR[i],c = 'b')\n",
    "    elif bgmm_preds[i] == 3:\n",
    "        plt.scatter(df.ACS[i],df.ADR[i],c = 'orange')\n",
    "\"\"\""
   ]
  },
  {
   "cell_type": "code",
   "execution_count": 18,
   "id": "709c3bfc",
   "metadata": {},
   "outputs": [
    {
     "data": {
      "text/plain": [
       "\"\\nfor i in range(len(player)):\\n    if bgmm_preds[i] == 1:\\n        plt.scatter(X_train.FKPR[i],X_train.FDPR[i],c = 'r')\\n    elif bgmm_preds[i] == 2:\\n        plt.scatter(X_train.FKPR[i],X_train.FDPR[i],c = 'g')\\n    elif bgmm_preds[i] == 0:\\n        plt.scatter(X_train.FKPR[i],X_train.FDPR[i],c = 'b')\\n    elif bgmm_preds[i] == 3:\\n        plt.scatter(X_train.FKPR[i],X_train.FDPR[i],c = 'orange')\\n\""
      ]
     },
     "execution_count": 18,
     "metadata": {},
     "output_type": "execute_result"
    }
   ],
   "source": [
    "\"\"\"\n",
    "for i in range(len(player)):\n",
    "    if bgmm_preds[i] == 1:\n",
    "        plt.scatter(X_train.FKPR[i],X_train.FDPR[i],c = 'r')\n",
    "    elif bgmm_preds[i] == 2:\n",
    "        plt.scatter(X_train.FKPR[i],X_train.FDPR[i],c = 'g')\n",
    "    elif bgmm_preds[i] == 0:\n",
    "        plt.scatter(X_train.FKPR[i],X_train.FDPR[i],c = 'b')\n",
    "    elif bgmm_preds[i] == 3:\n",
    "        plt.scatter(X_train.FKPR[i],X_train.FDPR[i],c = 'orange')\n",
    "\"\"\""
   ]
  },
  {
   "cell_type": "code",
   "execution_count": 19,
   "id": "ddc4ba34",
   "metadata": {},
   "outputs": [
    {
     "name": "stdout",
     "output_type": "stream",
     "text": [
      "CPU times: total: 10.1 s\n",
      "Wall time: 7.1 s\n"
     ]
    },
    {
     "data": {
      "text/plain": [
       "(81, 2)"
      ]
     },
     "execution_count": 19,
     "metadata": {},
     "output_type": "execute_result"
    }
   ],
   "source": [
    "%%time\n",
    "\n",
    "manifold = umap.UMAP().fit(df_scaled,bgmm_preds)\n",
    "X_reduced = manifold.transform(df_scaled)\n",
    "X_reduced.shape"
   ]
  },
  {
   "cell_type": "code",
   "execution_count": 20,
   "id": "11adf66d",
   "metadata": {},
   "outputs": [
    {
     "data": {
      "text/plain": [
       "<matplotlib.collections.PathCollection at 0x2c4d8ade5f0>"
      ]
     },
     "execution_count": 20,
     "metadata": {},
     "output_type": "execute_result"
    },
    {
     "data": {
      "image/png": "[encoded data removed]",
      "text/plain": [
       "<Figure size 640x480 with 1 Axes>"
      ]
     },
     "metadata": {},
     "output_type": "display_data"
    }
   ],
   "source": [
    "plt.scatter(X_reduced[:,0],X_reduced[:,1],c = 'r',s = 3)"
   ]
  },
  {
   "cell_type": "code",
   "execution_count": 21,
   "id": "190ae462",
   "metadata": {},
   "outputs": [
    {
     "name": "stdout",
     "output_type": "stream",
     "text": [
      "CPU times: total: 438 ms\n",
      "Wall time: 448 ms\n"
     ]
    },
    {
     "data": {
      "image/png": "[encoded data removed]",
      "text/plain": [
       "<Figure size 640x480 with 1 Axes>"
      ]
     },
     "metadata": {},
     "output_type": "display_data"
    }
   ],
   "source": [
    "%%time\n",
    "\n",
    "for i in range(len(player)):\n",
    "    if bgmm_preds[i] == 1:\n",
    "        plt.scatter(X_reduced[i,0],X_reduced[i,1],c = 'r', s = 5)\n",
    "    elif bgmm_preds[i] == 2:\n",
    "        plt.scatter(X_reduced[i,0],X_reduced[i,1],c = 'g', s = 5)\n",
    "    elif bgmm_preds[i] == 0:\n",
    "        plt.scatter(X_reduced[i,0],X_reduced[i,1],c = 'b', s = 5)\n",
    "    elif bgmm_preds[i] == 3:\n",
    "        plt.scatter(X_reduced[i,0],X_reduced[i,1],c = 'y', s = 5)\n"
   ]
  },
  {
   "cell_type": "code",
   "execution_count": 22,
   "id": "34c082a3",
   "metadata": {},
   "outputs": [
    {
     "data": {
      "image/png": "[encoded data removed]",
      "text/plain": [
       "<Figure size 800x800 with 1 Axes>"
      ]
     },
     "metadata": {},
     "output_type": "display_data"
    }
   ],
   "source": [
    "umap.plot.points(manifold, labels=bgmm_preds, theme=\"fire\");"
   ]
  },
  {
   "cell_type": "code",
   "execution_count": 23,
   "id": "dc553d96",
   "metadata": {},
   "outputs": [
    {
     "name": "stdout",
     "output_type": "stream",
     "text": [
      "CPU times: total: 6.66 s\n",
      "Wall time: 654 ms\n"
     ]
    }
   ],
   "source": [
    "%%time\n",
    "\n",
    "bgm = BayesianGMMClassifier(n_components=4,random_state=1,covariance_type=\"full\",max_iter=500,n_init=10,init_params=\"kmeans\")\n",
    "bgm.fit(df_scaled, bgmm_preds)\n",
    "y_pred = bgm.predict(df_scaled)"
   ]
  },
  {
   "cell_type": "code",
   "execution_count": 24,
   "id": "5c37be6a",
   "metadata": {},
   "outputs": [
    {
     "data": {
      "text/plain": [
       "1.0"
      ]
     },
     "execution_count": 24,
     "metadata": {},
     "output_type": "execute_result"
    }
   ],
   "source": [
    "accuracy_score(bgmm_preds, y_pred)"
   ]
  },
  {
   "cell_type": "code",
   "execution_count": 25,
   "id": "871b7f60",
   "metadata": {
    "scrolled": true
   },
   "outputs": [
    {
     "data": {
      "text/plain": [
       "(array([[ 1.05815348,  0.78397671,  0.69588542, -1.24442683,  0.17174367,\n",
       "          0.16549626],\n",
       "        [ 0.85762578,  0.46354783,  0.45369187, -0.57543229,  0.2408672 ,\n",
       "          0.29640282],\n",
       "        [ 0.06526466,  0.22365689,  0.27881164, -1.01945184,  0.39435759,\n",
       "          0.36849703],\n",
       "        ...,\n",
       "        [-0.64053499, -0.04012706, -0.38344615, -0.59575852,  0.65482377,\n",
       "          0.70981472],\n",
       "        [-0.0520287 ,  0.02134702,  0.08172599, -0.86191397,  0.49469021,\n",
       "          1.02307915],\n",
       "        [-0.29891496,  0.12320568, -0.04907969, -1.10753686,  0.59473816,\n",
       "          0.72417002]]),\n",
       " array([0, 0, 0, 0, 0, 0, 0, 0, 0, 0, 0, 0, 0, 0, 0, 0, 0, 0, 0, 0, 0, 0,\n",
       "        0, 0, 0, 0, 0, 0, 0, 0, 0, 0, 0, 0, 0, 0, 0, 0, 0, 0, 0, 0, 0, 0,\n",
       "        0, 0, 0, 0, 0, 0, 0, 0, 0, 0, 0, 0, 0, 0, 0, 0, 0, 0, 0, 0, 0, 0,\n",
       "        0, 0, 0, 0, 0, 0, 0, 0, 0, 0, 0, 0, 0, 0, 0, 0, 0, 0, 0, 0, 0, 0,\n",
       "        0, 0, 0, 0, 0, 0, 0, 0, 0, 0, 0, 0, 0, 0, 0, 0, 0, 0, 0, 0, 0, 0,\n",
       "        0, 0, 0, 0, 0, 0, 0, 0, 0, 0, 0, 0, 0, 0, 0, 0, 0, 0, 0, 0, 0, 0,\n",
       "        0, 0, 0, 0, 0, 0, 0, 0, 0, 0, 0, 0, 0, 0, 0, 0, 0, 0, 0, 0, 0, 0,\n",
       "        0, 0, 0, 0, 0, 0, 0, 0, 0, 0, 0, 0, 0, 0, 0, 0, 0, 0, 0, 0, 0, 0,\n",
       "        0, 0, 0, 0, 0, 0, 0, 0, 0, 0, 0, 0, 0, 0, 0, 0, 0, 0, 0, 0, 0, 0,\n",
       "        0, 0, 0, 0, 0, 0, 0, 0, 0, 0, 0, 0, 0, 0, 0, 0, 0, 0, 0, 0, 0, 0,\n",
       "        0, 0, 0, 0, 0, 0, 0, 0, 0, 0, 0, 0, 0, 0, 0, 0, 0, 0, 0, 0, 0, 0,\n",
       "        0, 0, 0, 0, 0, 0, 0, 0, 0, 0, 0, 0, 0, 0, 0, 0, 0, 0, 0, 0, 0, 0,\n",
       "        0, 0, 0, 0, 0, 0, 0, 1, 1, 1, 1, 1, 1, 1, 1, 1, 1, 1, 1, 1, 1, 1,\n",
       "        1, 1, 1, 1, 1, 1, 1, 1, 1, 1, 1, 1, 1, 1, 1, 1, 1, 1, 1, 1, 1, 1,\n",
       "        1, 1, 1, 1, 1, 1, 1, 1, 1, 1, 1, 1, 1, 1, 1, 1, 1, 1, 1, 1, 1, 1,\n",
       "        1, 1, 1, 1, 1, 1, 1, 1, 1, 1, 1, 1, 1, 1, 1, 1, 1, 1, 1, 1, 1, 1,\n",
       "        1, 1, 1, 1, 1, 1, 1, 1, 1, 1, 1, 1, 1, 1, 1, 1, 1, 1, 1, 1, 1, 1,\n",
       "        1, 1, 1, 1, 1, 1, 1, 1, 1, 1, 1, 1, 1, 1, 1, 1, 1, 1, 1, 1, 1, 1,\n",
       "        1, 1, 1, 1, 1, 1, 1, 1, 1, 1, 1, 1, 1, 1, 1, 1, 1, 1, 1, 1, 1, 1,\n",
       "        1, 1, 1, 1, 1, 1, 1, 1, 1, 1, 1, 1, 1, 1, 1, 1, 1, 1, 1, 1, 1, 1,\n",
       "        1, 1, 1, 1, 1, 1, 1, 1, 1, 1, 1, 1, 1, 1, 1, 1, 1, 1, 1, 1, 1, 1,\n",
       "        1, 1, 1, 1, 1, 1, 1, 1, 1, 1, 1, 1, 1, 1, 1, 1, 1, 1, 1, 1, 1, 1,\n",
       "        1, 1, 1, 1, 1, 1, 1, 1, 1, 1, 1, 1, 1, 1, 1, 1, 1, 1, 1, 1, 1, 1,\n",
       "        1, 1, 1, 1, 1, 1, 1, 1, 1, 1, 1, 1, 1, 1, 1, 1, 1, 1, 1, 1, 1, 1,\n",
       "        1, 1, 1, 1, 1, 1, 1, 1, 1, 1, 1, 1, 1, 1, 1, 1, 1, 1, 1, 1, 1, 1,\n",
       "        1, 1, 1, 1, 1, 1, 1, 1, 1, 1, 1, 1, 1, 1, 1, 1, 1, 1, 1, 1, 1, 1,\n",
       "        1, 1, 1, 1, 1, 1, 1, 1, 1, 1, 1, 1, 1, 1, 1, 1, 1, 1, 1, 1, 1, 1,\n",
       "        1, 1, 1, 1, 1, 1, 1, 1, 1, 1, 1, 1, 1, 1, 1, 1, 1, 1, 1, 1, 1, 1,\n",
       "        1, 1, 1, 1, 1, 1, 1, 1, 1, 1, 1, 1, 1, 1, 1, 1, 1, 1, 1, 1, 1, 1,\n",
       "        1, 1, 1, 1, 1, 1, 1, 1, 1, 1, 1, 1, 1, 1, 1, 1, 1, 1, 1, 1, 1, 1,\n",
       "        1, 1, 1, 1, 1, 1, 1, 1, 1, 1, 1, 1, 1, 1, 1, 1, 1, 1, 1, 1, 1, 1,\n",
       "        1, 1, 1, 1, 1, 1, 1, 1, 1, 1, 1, 1, 1, 1, 1, 1, 1, 1, 1, 1, 1, 1,\n",
       "        1, 1, 1, 1, 1, 1, 1, 1, 1, 1, 1, 1, 1, 1, 1, 1, 1, 1, 1, 1, 1, 1,\n",
       "        1, 1, 1, 1, 1, 1, 1, 1, 1, 2, 2, 2, 2, 2, 2, 2, 2, 2, 2, 2, 2, 2,\n",
       "        2, 2, 2, 2, 2, 2, 2, 2, 2, 2, 2, 2, 2, 2, 2, 2, 2, 2, 2, 2, 2, 2,\n",
       "        2, 2, 2, 2, 2, 2, 2, 2, 2, 2, 2, 2, 2, 2, 2, 2, 2, 2, 2, 2, 2, 2,\n",
       "        2, 2, 2, 2, 2, 2, 2, 2, 2, 2, 2, 2, 2, 2, 2, 2, 2, 2, 2, 2, 2, 2,\n",
       "        2, 2, 2, 2, 2, 2, 2, 2, 2, 2, 2, 2, 2, 2, 2, 2, 2, 2, 2, 2, 2, 2,\n",
       "        2, 2, 2, 2, 2, 2, 2, 2, 2, 2, 2, 2, 2, 2, 2, 2, 2, 2, 2, 2, 2, 2,\n",
       "        2, 2, 2, 3, 3, 3, 3, 3, 3, 3, 3, 3, 3, 3, 3, 3, 3, 3, 3, 3, 3, 3,\n",
       "        3, 3, 3, 3, 3, 3, 3, 3, 3, 3, 3, 3, 3, 3, 3, 3, 3, 3, 3, 3, 3, 3,\n",
       "        3, 3, 3, 3, 3, 3, 3, 3, 3, 3, 3, 3, 3, 3, 3, 3, 3, 3, 3, 3, 3, 3,\n",
       "        3, 3, 3, 3, 3, 3, 3, 3, 3, 3, 3, 3, 3, 3, 3, 3, 3, 3, 3, 3, 3, 3,\n",
       "        3, 3, 3, 3, 3, 3, 3, 3, 3, 3, 3, 3, 3, 3, 3, 3, 3, 3, 3, 3, 3, 3,\n",
       "        3, 3, 3, 3, 3, 3, 3, 3, 3, 3, 3, 3, 3, 3, 3, 3, 3, 3, 3, 3, 3, 3,\n",
       "        3, 3, 3, 3, 3, 3, 3, 3, 3, 3]))"
      ]
     },
     "execution_count": 25,
     "metadata": {},
     "output_type": "execute_result"
    }
   ],
   "source": [
    "smpl=bgmm.sample(n_samples=1000)\n",
    "smpl"
   ]
  },
  {
   "cell_type": "code",
   "execution_count": 26,
   "id": "8a357e32",
   "metadata": {},
   "outputs": [
    {
     "name": "stdout",
     "output_type": "stream",
     "text": [
      "CPU times: total: 28.4 s\n",
      "Wall time: 11.2 s\n"
     ]
    },
    {
     "data": {
      "text/plain": [
       "(1000, 2)"
      ]
     },
     "execution_count": 26,
     "metadata": {},
     "output_type": "execute_result"
    }
   ],
   "source": [
    "%%time\n",
    "\n",
    "manifold1 = umap.UMAP().fit(smpl[0],smpl[1])\n",
    "X_reduced1 = manifold.transform(smpl[0])\n",
    "X_reduced1.shape\n"
   ]
  },
  {
   "cell_type": "code",
   "execution_count": 27,
   "id": "3864beb0",
   "metadata": {},
   "outputs": [
    {
     "name": "stdout",
     "output_type": "stream",
     "text": [
      "CPU times: total: 3.16 s\n",
      "Wall time: 2.39 s\n"
     ]
    },
    {
     "data": {
      "image/png": "[encoded data removed]",
      "text/plain": [
       "<Figure size 640x480 with 1 Axes>"
      ]
     },
     "metadata": {},
     "output_type": "display_data"
    }
   ],
   "source": [
    "%%time\n",
    "\n",
    "for i in range(1000):\n",
    "    if smpl[1][i] == 1:\n",
    "        plt.scatter(X_reduced1[i,0],X_reduced1[i,1],c = 'r', s = 5, alpha= 0.1)\n",
    "    elif smpl[1][i] == 2:\n",
    "        plt.scatter(X_reduced1[i,0],X_reduced1[i,1],c = 'g', s = 5, alpha= 0.1)\n",
    "    elif smpl[1][i] == 0:\n",
    "        plt.scatter(X_reduced1[i,0],X_reduced1[i,1],c = 'b', s = 5, alpha= 0.1)\n",
    "    elif smpl[1][i] == 3:\n",
    "        plt.scatter(X_reduced1[i,0],X_reduced1[i,1],c = 'y', s = 5, alpha= 0.1)\n",
    "for i in range(len(player)):\n",
    "    if bgmm_preds[i] == 1:\n",
    "        plt.scatter(X_reduced[i,0],X_reduced[i,1],c = 'r', s = 5)\n",
    "    elif bgmm_preds[i] == 2:\n",
    "        plt.scatter(X_reduced[i,0],X_reduced[i,1],c = 'g', s = 5)\n",
    "    elif bgmm_preds[i] == 0:\n",
    "        plt.scatter(X_reduced[i,0],X_reduced[i,1],c = 'b', s = 5)\n",
    "    elif bgmm_preds[i] == 3:\n",
    "        plt.scatter(X_reduced[i,0],X_reduced[i,1],c = 'y', s = 5)"
   ]
  },
  {
   "cell_type": "code",
   "execution_count": 28,
   "id": "da376916",
   "metadata": {},
   "outputs": [
    {
     "data": {
      "text/plain": [
       "<AxesSubplot: >"
      ]
     },
     "execution_count": 28,
     "metadata": {},
     "output_type": "execute_result"
    },
    {
     "data": {
      "image/png": "[encoded data removed]",
      "text/plain": [
       "<Figure size 800x800 with 1 Axes>"
      ]
     },
     "metadata": {},
     "output_type": "display_data"
    }
   ],
   "source": [
    "umap.plot.points(manifold1, labels=smpl[1], theme=\"fire\")"
   ]
  },
  {
   "cell_type": "code",
   "execution_count": 29,
   "id": "3b42b5e4",
   "metadata": {},
   "outputs": [
    {
     "data": {
      "text/html": [
       "<div>\n",
       "<style scoped>\n",
       "    .dataframe tbody tr th:only-of-type {\n",
       "        vertical-align: middle;\n",
       "    }\n",
       "\n",
       "    .dataframe tbody tr th {\n",
       "        vertical-align: top;\n",
       "    }\n",
       "\n",
       "    .dataframe thead th {\n",
       "        text-align: right;\n",
       "    }\n",
       "</style>\n",
       "<table border=\"1\" class=\"dataframe\">\n",
       "  <thead>\n",
       "    <tr style=\"text-align: right;\">\n",
       "      <th></th>\n",
       "      <th>K:D</th>\n",
       "      <th>ADR</th>\n",
       "      <th>KPR</th>\n",
       "      <th>APR</th>\n",
       "      <th>FKPR</th>\n",
       "      <th>FDPR</th>\n",
       "    </tr>\n",
       "  </thead>\n",
       "  <tbody>\n",
       "    <tr>\n",
       "      <th>0</th>\n",
       "      <td>1.54</td>\n",
       "      <td>172.3</td>\n",
       "      <td>1.01</td>\n",
       "      <td>0.14</td>\n",
       "      <td>0.19</td>\n",
       "      <td>0.15</td>\n",
       "    </tr>\n",
       "    <tr>\n",
       "      <th>1</th>\n",
       "      <td>1.43</td>\n",
       "      <td>175.7</td>\n",
       "      <td>0.96</td>\n",
       "      <td>0.36</td>\n",
       "      <td>0.14</td>\n",
       "      <td>0.09</td>\n",
       "    </tr>\n",
       "    <tr>\n",
       "      <th>2</th>\n",
       "      <td>1.47</td>\n",
       "      <td>182.5</td>\n",
       "      <td>1.08</td>\n",
       "      <td>0.09</td>\n",
       "      <td>0.25</td>\n",
       "      <td>0.10</td>\n",
       "    </tr>\n",
       "    <tr>\n",
       "      <th>3</th>\n",
       "      <td>1.29</td>\n",
       "      <td>161.3</td>\n",
       "      <td>0.82</td>\n",
       "      <td>0.37</td>\n",
       "      <td>0.11</td>\n",
       "      <td>0.08</td>\n",
       "    </tr>\n",
       "    <tr>\n",
       "      <th>4</th>\n",
       "      <td>1.34</td>\n",
       "      <td>162.8</td>\n",
       "      <td>0.95</td>\n",
       "      <td>0.12</td>\n",
       "      <td>0.13</td>\n",
       "      <td>0.10</td>\n",
       "    </tr>\n",
       "  </tbody>\n",
       "</table>\n",
       "</div>"
      ],
      "text/plain": [
       "    K:D    ADR   KPR   APR  FKPR  FDPR\n",
       "0  1.54  172.3  1.01  0.14  0.19  0.15\n",
       "1  1.43  175.7  0.96  0.36  0.14  0.09\n",
       "2  1.47  182.5  1.08  0.09  0.25  0.10\n",
       "3  1.29  161.3  0.82  0.37  0.11  0.08\n",
       "4  1.34  162.8  0.95  0.12  0.13  0.10"
      ]
     },
     "execution_count": 29,
     "metadata": {},
     "output_type": "execute_result"
    }
   ],
   "source": [
    "df1 = pd.read_csv('GXR-INQuals12.csv')\n",
    "indplayer = df1['Player']\n",
    "X_test = df1.drop(['Player','Rnd','KAST','K','D','A','FK','FD','CL%','KMax','ACS','HS%','CL','R','Team'], axis = 1)\n",
    "X_test.head()"
   ]
  },
  {
   "cell_type": "code",
   "execution_count": 30,
   "id": "c19abeba",
   "metadata": {},
   "outputs": [
    {
     "name": "stdout",
     "output_type": "stream",
     "text": [
      "[[ 1.82533788  1.52791129  1.74101221 -1.20519529  0.95045382  0.83247624]\n",
      " [ 1.53859174  1.62137175  1.52713377  0.64955505  0.59888567  0.        ]\n",
      " [ 1.645763    1.80108264  2.01745555 -1.65951137  1.25368175  0.17219238]\n",
      " [ 1.13458114  1.20739588  0.84245885  0.72894059  0.32846069 -0.18899545]\n",
      " [ 1.28431656  1.25283583  1.48258078 -1.3852948   0.514432    0.17219238]\n",
      " [ 0.57368913  0.08726628  0.4438814   0.2466741   0.11676134 -0.18899545]\n",
      " [ 0.53793466  0.05425087  0.13184941  1.04267277 -0.55407979 -0.87609774]\n",
      " [ 0.35405379  1.34495786  1.25029244 -1.11593518  0.514432    0.83247624]\n",
      " [-0.08303265  0.34943885  0.06644931  0.2466741   0.         -0.39661261]\n",
      " [ 0.74760882  0.47782935  0.61986561 -1.65951137  0.514432    0.83247624]\n",
      " [ 0.42864724  0.71876811  0.84245885 -1.56755263  1.11544134 -0.62488671]\n",
      " [ 0.4654185   1.21348783  0.73282527 -0.41983918  0.67817731  0.72302718]\n",
      " [ 0.53793466  0.38765092  0.78804935 -1.29497925  0.82267257  0.83247624]\n",
      " [ 0.23945957  0.80143987  0.56209503 -0.41983918  0.75266328  0.83247624]\n",
      " [ 0.12149236  0.09137367  0.06644931  0.32806065  0.11676134  0.17219238]\n",
      " [ 0.23945957 -0.08066117  0.13184941 -0.25056149 -0.25827292 -0.39661261]\n",
      " [ 0.0408989  -0.477178   -0.27676394  0.64955505 -0.71799477 -0.62488671]\n",
      " [-0.12517896  0.07079343 -0.13613983  1.42659789 -0.12479929 -0.62488671]\n",
      " [-0.08303265  0.5622871   0.25959173 -0.33497267  0.82267257  0.83247624]\n",
      " [-0.04130844  0.63422416  0.32197732 -0.41983918  0.59888567  0.83247624]\n",
      " [-0.12517896 -1.26237892 -0.88839231 -0.25056149 -0.71799477 -0.62488671]\n",
      " [-0.04130844 -1.55822067 -1.05476991  0.4896081   0.         -0.39661261]\n",
      " [ 0.23945957  1.18292456  0.61986561 -1.20519529  0.67817731  1.02448973]\n",
      " [ 0.          0.16054508  0.13184941 -0.08308102  0.          0.        ]\n",
      " [-0.16775387 -0.1151232  -0.2058788  -0.85122305  0.          0.        ]\n",
      " [ 0.20051927  0.04179791 -0.13613983 -0.5051672  -0.40111433  0.17219238]\n",
      " [-0.5246057  -0.52960448 -0.42207746 -0.25056149 -0.25827292  0.        ]\n",
      " [-0.16775387  0.29139736  0.13184941 -1.29497925  0.88850909  0.93268017]\n",
      " [ 0.23945957 -0.32841329  0.4438814  -1.29497925  0.         -0.18899545]\n",
      " [-0.3872936  -0.80743817 -0.34882124  0.16487205 -0.25827292 -0.39661261]\n",
      " [-0.08303265 -0.64145065 -0.13613983 -0.41983918 -0.40111433 -0.18899545]\n",
      " [ 0.          0.29529417  0.4438814  -0.85122305  0.          1.25684386]\n",
      " [-1.06780546 -0.68108057 -0.88839231  0.56977916 -0.40111433 -0.39661261]\n",
      " [-0.43258386  0.04179791  0.06644931 -1.75203461  0.67817731  1.02448973]\n",
      " [-0.81277423 -0.80230907 -0.88839231  0.56977916 -0.55407979 -0.18899545]\n",
      " [-0.478352    0.62352086  0.13184941 -0.33497267  0.32846069  0.47250495]\n",
      " [-0.81277423  0.47782935  0.         -1.20519529  0.32846069  0.17219238]\n",
      " [-1.12054739 -1.10521494 -1.05476991  0.16487205 -0.25827292 -0.18899545]\n",
      " [-1.45001072 -1.37829042 -1.59057982  0.72894059 -0.25827292  0.17219238]\n",
      " [-0.86265545 -0.1673849  -0.34882124  0.96480211  0.         -0.87609774]\n",
      " [-1.01565514 -1.37829042 -0.49656014 -0.93895637 -0.25827292 -0.87609774]\n",
      " [-1.22784714 -0.63652369 -0.807335    0.         -0.40111433  0.        ]\n",
      " [-0.81277423  0.10366995 -0.27676394 -0.5051672   0.11676134 -0.39661261]\n",
      " [-2.183948   -2.420868   -2.18816193 -0.67723323 -0.40111433  0.32920848]\n",
      " [-2.05398096 -1.98896537 -1.98151541 -1.65951137 -0.12479929  0.83247624]\n",
      " [-2.25017371 -1.55822067 -1.59057982 -0.67723323  0.          0.17219238]]\n",
      "CPU times: total: 0 ns\n",
      "Wall time: 5.33 ms\n"
     ]
    }
   ],
   "source": [
    "%%time\n",
    "data_scaled_test = power_transformer.transform(X_test)\n",
    "df_scaled_test = robust_scaler.transform(data_scaled_test)\n",
    "print(df_scaled_test)"
   ]
  },
  {
   "cell_type": "code",
   "execution_count": 31,
   "id": "83564fc5",
   "metadata": {},
   "outputs": [
    {
     "name": "stdout",
     "output_type": "stream",
     "text": [
      "[0 0 0 0 1 1 1 0 1 0 0 0 0 0 1 1 1 1 0 0 1 1 0 1 1 1 1 0 1 1 1 0 1 0 1 0 0\n",
      " 1 1 1 1 1 0 1 1 1]\n"
     ]
    }
   ],
   "source": [
    "y_test_pred = bgm.predict(df_scaled_test)\n",
    "print(y_test_pred)"
   ]
  },
  {
   "cell_type": "code",
   "execution_count": 32,
   "id": "ace3cd46",
   "metadata": {},
   "outputs": [
    {
     "name": "stdout",
     "output_type": "stream",
     "text": [
      "rawfiul----->0\n",
      "tesseract----->0\n",
      "SkRossi----->0\n",
      "Excali----->0\n",
      "Harshhh----->1\n",
      "hellff----->1\n",
      "rite2ace----->1\n",
      "LilBOii----->0\n",
      "vibhoRR----->1\n",
      "DEATHMAKER----->0\n",
      "1TaPGoD----->0\n",
      "Lightningfast----->0\n",
      "KnightRider----->0\n",
      "Paradox----->0\n",
      "blackhawk----->1\n",
      "Logistaa----->1\n",
      "HellrangeR----->1\n",
      "Amaterasu----->1\n",
      "Deadly10----->0\n",
      "psydreams----->0\n",
      "RvK----->1\n",
      "Antidote----->1\n",
      "xavi8k----->0\n",
      "Whimp----->1\n",
      "BADlove----->1\n",
      "KappA----->1\n",
      "Pixelzz----->1\n",
      "fishball----->0\n",
      "grav1ty----->1\n",
      "Rio----->1\n",
      "Ember----->1\n",
      "r1seN----->0\n",
      "Hoax----->1\n",
      "sens3i----->0\n",
      "skillZ----->1\n",
      "Marzil----->0\n",
      "Rossi----->0\n",
      "sh1vy----->1\n",
      "zeeq----->1\n",
      "Kibo----->1\n",
      "LuciA----->1\n",
      "Busterrr----->1\n",
      "astr0----->0\n",
      "Rexy----->1\n",
      "Equinox----->1\n",
      "khelthuzad----->1\n"
     ]
    }
   ],
   "source": [
    "for i in range(len(y_test_pred)):\n",
    "    print(f'{indplayer[i]}----->{y_test_pred[i]}')"
   ]
  },
  {
   "cell_type": "code",
   "execution_count": null,
   "id": "007483bc",
   "metadata": {},
   "outputs": [],
   "source": []
  }
 ],
 "metadata": {
  "kernelspec": {
   "display_name": "Python 3 (ipykernel)",
   "language": "python",
   "name": "python3"
  },
  "language_info": {
   "codemirror_mode": {
    "name": "ipython",
    "version": 3
   },
   "file_extension": ".py",
   "mimetype": "text/x-python",
   "name": "python",
   "nbconvert_exporter": "python",
   "pygments_lexer": "ipython3",
   "version": "3.10.9"
  }
 },
 "nbformat": 4,
 "nbformat_minor": 5
}
